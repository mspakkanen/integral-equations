{
 "cells": [
  {
   "cell_type": "markdown",
   "metadata": {},
   "source": [
    "# Discretisation of integral equations\n",
    "<i>Author: Mikko Pakkanen</i> (email: mikko.pakkanen@uwaterloo.ca)<br>"
   ]
  },
  {
   "cell_type": "markdown",
   "metadata": {},
   "source": [
    "This notebook implements methods from:\n",
    "\n",
    "<i>M. S. Pakkanen, X. Miscouridou, M. J. Penn, C. Whittaker, T. Berah, S. Mishra, T. A. Mellan and S. Bhatt (2022): Unifying incidence and prevalence under a time-varying general branching process. Preprint, https://arxiv.org/abs/2107.05579.</i>\n",
    "\n",
    "We refer the user of this notebook to the paper for context and any unexplained notation."
   ]
  },
  {
   "cell_type": "markdown",
   "metadata": {},
   "source": [
    "The objective of the notebook is to exemplify the discretisation of the integral equation that governs <b>prevalence</b>, i.e., the function $t \\mapsto \\mathrm{Pr}(t,0)$, under a time-varying <i>Bellman-Harris process</i>, as defined in <b>Example 1</b> of the paper (which is a special case of the more general time-varying <i>Crump-Mode-Jagers process</i> studied in the paper). We employ the algorithms introduced in <b>Section 3.1</b> therein. While we work with the Bellman-Harris process here, adapting this notebook for the <i>inhomogeneous Poisson process model</i> of <b>Example 2</b> is simply a matter of redefining notation."
   ]
  },
  {
   "cell_type": "markdown",
   "metadata": {},
   "source": [
    "Running this notebook requires <code>numpy</code>, <code>scipy</code> and <code>matplotlib</code>, which we import first."
   ]
  },
  {
   "cell_type": "code",
   "execution_count": 32,
   "metadata": {},
   "outputs": [],
   "source": [
    "import numpy as np\n",
    "from scipy.stats import gamma\n",
    "from scipy.linalg import toeplitz\n",
    "import matplotlib.pyplot as plt\n",
    "plt.style.use(\"ggplot\")"
   ]
  },
  {
   "cell_type": "markdown",
   "metadata": {},
   "source": [
    "In our example, $L^\\tau$ follows the Gamma distribution with shape parameter $3$ and $\\tau$-dependent scale parameter\n",
    "$$\n",
    "\\frac{1}{1+0.01\\tau}.\n",
    "$$\n",
    "The functions <code>G(t, tau)</code> and <code>g(t, tau)</code> will represent the cumulative distribution function $G^\\tau(t)$ and probability density function $g^\\tau(t)$ of $L^\\tau$, respectively.\n",
    "The time-varying effective reproduction number of the Bellman-Harris process will be specified as:\n",
    "$$\n",
    "R(t) := 1.15 + \\sin(0.15t)\n",
    "$$"
   ]
  },
  {
   "cell_type": "code",
   "execution_count": 23,
   "metadata": {},
   "outputs": [],
   "source": [
    "def G(t, tau):\n",
    "    return gamma.cdf(t, a = 3, scale = 1 / (1 + 0.01 * tau))\n",
    "\n",
    "def g(t, tau):\n",
    "    return gamma.pdf(t, a = 3, scale = 1 / (1 + 0.01 * tau))\n",
    "\n",
    "def R(t):\n",
    "    return 1.15 + np.sin(0.15 * t)"
   ]
  },
  {
   "cell_type": "markdown",
   "metadata": {},
   "source": [
    "We will generate discretisation over $N = 500$ time steps with step size $\\Delta = \\frac{100}{N}$."
   ]
  },
  {
   "cell_type": "code",
   "execution_count": 33,
   "metadata": {},
   "outputs": [],
   "source": [
    "N = 500\n",
    "Delta = 100 / N"
   ]
  },
  {
   "cell_type": "markdown",
   "metadata": {},
   "source": [
    "Since we discretise the equation for prevalence ($f = \\mathrm{Pr}$), we specify $h(t,\\tau) := 1 - G^{\\tau}(t-\\tau) = \\overline{G}^\\tau(t-\\tau)$, in accordance with <b>Equation (49)</b> in the paper."
   ]
  },
  {
   "cell_type": "code",
   "execution_count": 34,
   "metadata": {},
   "outputs": [],
   "source": [
    "def h(t, tau):\n",
    "    return 1 - G(t - tau, tau)"
   ]
  },
  {
   "cell_type": "markdown",
   "metadata": {},
   "source": [
    "And since we are working with the Bellman-Harris specification of the model, we set $\\lambda^\\tau(u) := R(u+\\tau) g^\\tau(u)$, via the function <code>lam(u, tau)</code>."
   ]
  },
  {
   "cell_type": "code",
   "execution_count": 35,
   "metadata": {},
   "outputs": [],
   "source": [
    "def lam(u, tau):\n",
    "    return R(u + tau) * g(u, tau)"
   ]
  },
  {
   "cell_type": "markdown",
   "metadata": {},
   "source": [
    "We are now ready to discretise the integral equation for prevalence using <b>Algorithm 1</b>. This involves a double for-loop, so on most systems it will take a while time to complete. The array <code>f_hat</code> will be used to store the values of the function $(n,i) \\mapsto \\widehat{f}_{n\\Delta}(i\\Delta)$. We will finally extract the \"diagonal\" $\\widehat{f}_{n\\Delta}(n\\Delta)$, $n=0,\\ldots,N$, and store it in the vector <code>f_loop</code>. "
   ]
  },
  {
   "cell_type": "code",
   "execution_count": 36,
   "metadata": {},
   "outputs": [],
   "source": [
    "fhat = np.zeros(shape = (N + 1, N + 1))\n",
    "\n",
    "for n in range(N + 1):\n",
    "    for i in range(n + 1):\n",
    "        if i == 0:\n",
    "            fhat[n, i] = h(n * Delta, n * Delta)\n",
    "        else:\n",
    "            fhat[n, i] = h(n * Delta, (n - i) * Delta) + np.sum(fhat[n, i - np.arange(1, i + 1)] * lam(Delta * np.arange(1, i + 1), (n - i) * Delta) * Delta)\n",
    "\n",
    "f_loop = np.diagonal(fhat)"
   ]
  },
  {
   "cell_type": "markdown",
   "metadata": {},
   "source": [
    "Next, we discretise the equation using <b>Algorithm 2</b>. This requires more preparation. To populate the matrix $H$ used in the algorithm, we specify two auxiliary arrays <code>A_H</code> and <code>B_H</code> which will be used to compute all values of $H$ <i>at once</i> by vectorised evaluation of the function $h(\\cdot,\\cdot)$. (Unlike in the paper, the upper diagonal of $H$ will not be padded with zeros, but this is immaterial since the algorithm does not actually \"see\" this part of the matrix.)"
   ]
  },
  {
   "cell_type": "code",
   "execution_count": 37,
   "metadata": {},
   "outputs": [],
   "source": [
    "A_H = Delta * np.transpose(np.tile(np.arange(0, N + 1), (N + 1, 1)))\n",
    "B_H = Delta * toeplitz(np.arange(0, N + 1))\n",
    "H = h(A_H, B_H)"
   ]
  },
  {
   "cell_type": "markdown",
   "metadata": {},
   "source": [
    "Similarly, we populate the matrix $L$ by evaluating the function <code>lam(t,tau)</code> in a vectorised fashion. (The lower diagonal of $L$ will not consist of zeros but, as above, it will not cause any problem.)"
   ]
  },
  {
   "cell_type": "code",
   "execution_count": 38,
   "metadata": {},
   "outputs": [],
   "source": [
    "A_L = A_H[0 : N, 0 : N]\n",
    "B_L = Delta * np.tile(np.flip(np.arange(1, N + 1)), (N, 1))\n",
    "L = lam(B_L, A_L) * Delta"
   ]
  },
  {
   "cell_type": "markdown",
   "metadata": {},
   "source": [
    "We are now ready to run the only for-loop in <b>Algorithm 2</b>. Before doing so, we just introduce an array <code>F</code> that corresponds to the matrix $F$ in the algorithm, the only difference being that <code>F</code> has to follow the zero-indexation convention of <code>numpy</code>, so that all indices are shifted by one relative to the paper. This single loop should run much faster than the double loop of <b>Algorithm 1</b>. Once finished, we store the diagonal of <code>F</code> in the vector <code>f_vec</code>. "
   ]
  },
  {
   "cell_type": "code",
   "execution_count": 39,
   "metadata": {},
   "outputs": [],
   "source": [
    "F = np.zeros(shape = (N + 1, N + 1))\n",
    "F[:, 0] = H[:, 0]\n",
    "\n",
    "for i in range(N):\n",
    "    B = F[(i + 1) : (N + 1), 0 : (i + 1)] * L[0 : (N - i), (N - i - 1) : (N + 1)]\n",
    "    F[(i + 1) : (N + 1), i + 1] = H[(i + 1) : (N + 1), i + 1] + np.sum(B, axis = -1)\n",
    "\n",
    "f_vec = np.diagonal(F)"
   ]
  },
  {
   "cell_type": "markdown",
   "metadata": {},
   "source": [
    "Finally, we visualise the results and confirm that the outputs of <b>Algorithms 1</b> and <b>2</b>, i.e., vectors <code>f_vec</code> and <code>f_loop</code>, agree."
   ]
  },
  {
   "cell_type": "code",
   "execution_count": 44,
   "metadata": {},
   "outputs": [
    {
     "data": {
      "image/png": "[encoded data removed]",
      "text/plain": [
       "<Figure size 432x288 with 1 Axes>"
      ]
     },
     "metadata": {},
     "output_type": "display_data"
    }
   ],
   "source": [
    "grid = Delta * np.arange(0, N + 1)\n",
    "plt.plot(grid, f_loop, \"b\", label = \"Algorithm 1\")\n",
    "plt.plot(grid, f_vec, \"r--\", label = \"Algorithm 2\")\n",
    "plt.xlabel(\"$t$\")\n",
    "plt.ylabel(\"$\\mathrm{Pr}(t,0)$\")\n",
    "plt.title(r\"$\\Delta=$%f\" % Delta, loc = \"left\", fontsize = 11)\n",
    "plt.title(r\"$N=$%i\" % N, loc = \"right\", fontsize = 11)\n",
    "plt.legend()\n",
    "plt.show()"
   ]
  }
 ],
 "metadata": {
  "kernelspec": {
   "display_name": "Python 3.8.8 ('base')",
   "language": "python",
   "name": "python3"
  },
  "language_info": {
   "codemirror_mode": {
    "name": "ipython",
    "version": 3
   },
   "file_extension": ".py",
   "mimetype": "text/x-python",
   "name": "python",
   "nbconvert_exporter": "python",
   "pygments_lexer": "ipython3",
   "version": "3.8.8"
  },
  "orig_nbformat": 4,
  "vscode": {
   "interpreter": {
    "hash": "f5833144c73208e7221fea05166a10b32629d65d2bf851f240dd7159248d30dd"
   }
  }
 },
 "nbformat": 4,
 "nbformat_minor": 2
}
